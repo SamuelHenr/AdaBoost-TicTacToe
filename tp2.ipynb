{
 "cells": [
  {
   "cell_type": "code",
   "execution_count": 2,
   "id": "4bcf8794-70ca-46b5-9547-53e4318a44e9",
   "metadata": {},
   "outputs": [
    {
     "name": "stdout",
     "output_type": "stream",
     "text": [
      "[['x' 'x' 'x' ... 'x' 'o' 'positive']\n",
      " ['x' 'x' 'x' ... 'o' 'x' 'positive']\n",
      " ['x' 'x' 'x' ... 'b' 'b' 'positive']\n",
      " ...\n",
      " ['o' 'x' 'o' ... 'o' 'x' 'negative']\n",
      " ['o' 'x' 'o' ... 'o' 'x' 'negative']\n",
      " ['o' 'o' 'x' ... 'x' 'x' 'negative']]\n"
     ]
    }
   ],
   "source": [
    "# First, we are gonna get the features vector from the file\n",
    "import pandas as pd\n",
    "import numpy as np\n",
    "\n",
    "df = np.array(pd.read_csv('/home/samuel/tp2/tic-tac-toe.data', sep=','))\n",
    "print(df)"
   ]
  },
  {
   "cell_type": "code",
   "execution_count": 3,
   "id": "23c7a3a5-379e-4e76-8a71-5924e4ad1907",
   "metadata": {},
   "outputs": [],
   "source": [
    "# We need to create a stump for each victory pattern\n",
    "def stump_predictor(data, i1=0, i2=0, i3=0, symbol='b'):\n",
    "    if data[i1] == symbol and data[i2] == symbol and data[i3] == symbol:\n",
    "        return 1.0 if symbol == 'x' else -1.0\n",
    "    return 0.0"
   ]
  },
  {
   "cell_type": "code",
   "execution_count": 8,
   "id": "a5968e17-0123-4ba7-a7b0-7dc5375887fc",
   "metadata": {},
   "outputs": [],
   "source": [
    "def get_empirical_error(df, stumps, alpha):\n",
    "    num_rows, num_cols = df.shape\n",
    "    error = 0;\n",
    "    for key_data, n in enumerate(df):\n",
    "        final_classifier = 0\n",
    "        for key_stump, stump in enumerate(stumps):\n",
    "            final_classifier+=(alpha[key_stump]*stump_predictor(n, stump[0], stump[1], stump[2], stump[3]))\n",
    "        result = 'positive' if final_classifier < 0 else 'negative'\n",
    "        if result != n[-1]:\n",
    "            error+=1\n",
    "\n",
    "    return error / num_rows"
   ]
  },
  {
   "cell_type": "code",
   "execution_count": 4,
   "id": "afc4252c-9be6-4bb4-9d5f-2ef279d6798f",
   "metadata": {},
   "outputs": [],
   "source": [
    "# Patterns victory\n",
    "stumps = [[0, 1, 2, 'x'],\n",
    "          [0, 1, 2, 'o'],\n",
    "          [3, 4, 5, 'x'],\n",
    "          [3, 4, 5, 'o'],\n",
    "          [6, 7, 8, 'x'],\n",
    "          [6, 7, 8, 'o'],\n",
    "          [0, 3, 6, 'x'],\n",
    "          [0, 3, 6, 'o'],\n",
    "          [1, 4, 7, 'x'],\n",
    "          [1, 4, 7, 'o'],\n",
    "          [2, 5, 8, 'x'],\n",
    "          [2, 5, 8, 'o'],\n",
    "          [0, 4, 8, 'x'],\n",
    "          [0, 4, 8, 'o'],\n",
    "          [2, 4, 6, 'x'],\n",
    "          [2, 4, 6, 'o']]"
   ]
  },
  {
   "cell_type": "code",
   "execution_count": 14,
   "id": "004c385a-780f-4113-98f5-a52d40673d58",
   "metadata": {},
   "outputs": [],
   "source": [
    "import math\n",
    "\n",
    "num_rows, num_cols = df.shape\n",
    "w = np.full(num_rows, 1/num_rows)\n",
    "alpha = np.full(len(stumps), 1.0)\n",
    "\n",
    "loss_acc = []\n",
    "\n",
    "for key_stump, stump in enumerate(stumps):\n",
    "    error = 0\n",
    "    for key_data, n in enumerate(df):\n",
    "        h = stump_predictor(n, stump[0], stump[1], stump[2], stump[3])\n",
    "        if (n[-1] == 'positive' and h != 1.0) or (n[-1] == 'negative' and h != -1.0):\n",
    "            error+=w[key_data]\n",
    "\n",
    "    alpha[key_stump] = (math.log10((1.0 - error)/error)) / 2\n",
    "\n",
    "    # Update weights\n",
    "    for key, wi in enumerate(w):\n",
    "        y = 1.0 if df[key][-1] == 'positive' else -1.0\n",
    "        h = stump_predictor(n, stump[0], stump[1], stump[2], stump[3])\n",
    "\n",
    "        w[key] = wi * pow(math.e, (-1)*alpha[key_stump]*h*y)\n",
    "\n",
    "    # normalize sum to 1\n",
    "    w = w / sum(w)\n",
    "    \n",
    "    error = get_empirical_error(df, stumps, alpha)\n",
    "    loss_acc.append(error)"
   ]
  },
  {
   "cell_type": "code",
   "execution_count": 18,
   "id": "67cecd55-2f2f-4738-bd22-55f81c8c171a",
   "metadata": {},
   "outputs": [
    {
     "data": {
      "image/png": "[encoded data removed]",
      "text/plain": [
       "<Figure size 640x480 with 1 Axes>"
      ]
     },
     "metadata": {},
     "output_type": "display_data"
    }
   ],
   "source": [
    "import matplotlib.pyplot as plt\n",
    "\n",
    "plt.plot(loss_acc, color='r', label=\"Empirical error\")\n",
    "\n",
    "plt.title('AdaBoost algorithm')\n",
    "plt.xlabel('Loops')\n",
    "plt.ylabel('Cost/Total loss')\n",
    "plt.legend(loc='upper right')\n",
    "plt.show()"
   ]
  }
 ],
 "metadata": {
  "kernelspec": {
   "display_name": "Python 3 (ipykernel)",
   "language": "python",
   "name": "python3"
  },
  "language_info": {
   "codemirror_mode": {
    "name": "ipython",
    "version": 3
   },
   "file_extension": ".py",
   "mimetype": "text/x-python",
   "name": "python",
   "nbconvert_exporter": "python",
   "pygments_lexer": "ipython3",
   "version": "3.10.6"
  }
 },
 "nbformat": 4,
 "nbformat_minor": 5
}
